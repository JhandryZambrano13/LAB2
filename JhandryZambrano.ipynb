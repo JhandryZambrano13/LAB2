{
 "cells": [
  {
   "cell_type": "code",
   "execution_count": 2,
   "id": "897f6b27",
   "metadata": {
    "id": "897f6b27"
   },
   "outputs": [],
   "source": [
    "#librerias\n",
    "import sqlalchemy\n",
    "from sqlalchemy import create_engine\n",
    "from sqlalchemy import Table, Column, Integer, String, MetaData, ForeignKey\n",
    "from sqlalchemy import inspect"
   ]
  },
  {
   "cell_type": "code",
   "execution_count": 3,
   "id": "4ebe951f",
   "metadata": {
    "colab": {
     "base_uri": "https://localhost:8080/"
    },
    "id": "4ebe951f",
    "outputId": "c0f11365-cea7-4afd-a491-b798797c5f88"
   },
   "outputs": [],
   "source": [
    "#Conectar el motor al archivo de la base de datos transalacional y WH\n",
    "engine = create_engine('sqlite:///chinook.db')\n",
    "engineWH = create_engine('sqlite:///guia.db')"
   ]
  },
  {
   "cell_type": "markdown",
   "id": "cc08b636",
   "metadata": {
    "id": "cc08b636"
   },
   "source": [
    "# Extract"
   ]
  },
  {
   "cell_type": "code",
   "execution_count": 4,
   "id": "3878f188",
   "metadata": {
    "colab": {
     "base_uri": "https://localhost:8080/"
    },
    "id": "3878f188",
    "outputId": "6a7a9c53-d531-4719-f711-efd458a091c6"
   },
   "outputs": [],
   "source": [
    "# SQL Expression Language crea metadatos que contienen objetos que definen la tabla de clientes\n",
    "metadata = MetaData()\n",
    "\n",
    "# Este método instancia las tablas que ya\n",
    "# existe en la base de datos, a la que está conectado el motor.\n",
    "metadata.create_all(engine)\n",
    "metadata.create_all(engineWH)\n",
    "# Revisando esto, podemos ver la estructura de la tabla y los tipos de variables \n",
    "inspector = inspect(engine)\n",
    "inspectorWH = inspect(engineWH)\n",
    "\n",
    "#Tablas de db tranlacinal chinook - invoice_items\n",
    "#print('Chinook-invoice_items')\n",
    "#print(inspector.get_columns('invoice_items'))\n",
    "#Tablas de echo - fact_sales\n",
    "#print('\\n WH - Fact_sales')\n",
    "#print(inspectorWH.get_columns('Fact_sales'))"
   ]
  },
  {
   "cell_type": "code",
   "execution_count": 4,
   "id": "b22d58c0",
   "metadata": {},
   "outputs": [
    {
     "data": {
      "text/plain": [
       "[{'name': 'TrackId',\n",
       "  'type': INTEGER(),\n",
       "  'nullable': False,\n",
       "  'default': None,\n",
       "  'autoincrement': 'auto',\n",
       "  'primary_key': 1},\n",
       " {'name': 'Name',\n",
       "  'type': NVARCHAR(length=200),\n",
       "  'nullable': False,\n",
       "  'default': None,\n",
       "  'autoincrement': 'auto',\n",
       "  'primary_key': 0},\n",
       " {'name': 'AlbumId',\n",
       "  'type': INTEGER(),\n",
       "  'nullable': True,\n",
       "  'default': None,\n",
       "  'autoincrement': 'auto',\n",
       "  'primary_key': 0},\n",
       " {'name': 'MediaTypeId',\n",
       "  'type': INTEGER(),\n",
       "  'nullable': False,\n",
       "  'default': None,\n",
       "  'autoincrement': 'auto',\n",
       "  'primary_key': 0},\n",
       " {'name': 'GenreId',\n",
       "  'type': INTEGER(),\n",
       "  'nullable': True,\n",
       "  'default': None,\n",
       "  'autoincrement': 'auto',\n",
       "  'primary_key': 0},\n",
       " {'name': 'Composer',\n",
       "  'type': NVARCHAR(length=220),\n",
       "  'nullable': True,\n",
       "  'default': None,\n",
       "  'autoincrement': 'auto',\n",
       "  'primary_key': 0},\n",
       " {'name': 'Milliseconds',\n",
       "  'type': INTEGER(),\n",
       "  'nullable': False,\n",
       "  'default': None,\n",
       "  'autoincrement': 'auto',\n",
       "  'primary_key': 0},\n",
       " {'name': 'Bytes',\n",
       "  'type': INTEGER(),\n",
       "  'nullable': True,\n",
       "  'default': None,\n",
       "  'autoincrement': 'auto',\n",
       "  'primary_key': 0},\n",
       " {'name': 'UnitPrice',\n",
       "  'type': NUMERIC(precision=10, scale=2),\n",
       "  'nullable': False,\n",
       "  'default': None,\n",
       "  'autoincrement': 'auto',\n",
       "  'primary_key': 0}]"
      ]
     },
     "execution_count": 4,
     "metadata": {},
     "output_type": "execute_result"
    }
   ],
   "source": [
    "#datos de db\n",
    "inspector.get_columns('employees')\n",
    "inspector.get_columns('albums')\n",
    "inspector.get_columns('media_types')\n",
    "inspector.get_columns('genres')\n",
    "inspector.get_columns('playlists')\n",
    "inspector.get_columns('artists')\n",
    "inspector.get_columns('invoices')\n",
    "inspector.get_columns('customers')\n",
    "inspector.get_columns('tracks')\n"
   ]
  },
  {
   "cell_type": "markdown",
   "id": "a4fce0c4",
   "metadata": {},
   "source": [
    "# Transform"
   ]
  },
  {
   "cell_type": "code",
   "execution_count": 8,
   "id": "44fceae0",
   "metadata": {},
   "outputs": [
    {
     "data": {
      "text/html": [
       "<div>\n",
       "<style scoped>\n",
       "    .dataframe tbody tr th:only-of-type {\n",
       "        vertical-align: middle;\n",
       "    }\n",
       "\n",
       "    .dataframe tbody tr th {\n",
       "        vertical-align: top;\n",
       "    }\n",
       "\n",
       "    .dataframe thead th {\n",
       "        text-align: right;\n",
       "    }\n",
       "</style>\n",
       "<table border=\"1\" class=\"dataframe\">\n",
       "  <thead>\n",
       "    <tr style=\"text-align: right;\">\n",
       "      <th></th>\n",
       "      <th>BillingAddress</th>\n",
       "      <th>BillingCity</th>\n",
       "      <th>BillingState</th>\n",
       "      <th>BillingCountry</th>\n",
       "      <th>BillingPostalCode</th>\n",
       "    </tr>\n",
       "  </thead>\n",
       "  <tbody>\n",
       "    <tr>\n",
       "      <th>0</th>\n",
       "      <td>Theodor-Heuss-Straße 34</td>\n",
       "      <td>Stuttgart</td>\n",
       "      <td>None</td>\n",
       "      <td>Germany</td>\n",
       "      <td>70174</td>\n",
       "    </tr>\n",
       "    <tr>\n",
       "      <th>1</th>\n",
       "      <td>Ullevålsveien 14</td>\n",
       "      <td>Oslo</td>\n",
       "      <td>None</td>\n",
       "      <td>Norway</td>\n",
       "      <td>0171</td>\n",
       "    </tr>\n",
       "    <tr>\n",
       "      <th>2</th>\n",
       "      <td>Grétrystraat 63</td>\n",
       "      <td>Brussels</td>\n",
       "      <td>None</td>\n",
       "      <td>Belgium</td>\n",
       "      <td>1000</td>\n",
       "    </tr>\n",
       "    <tr>\n",
       "      <th>3</th>\n",
       "      <td>8210 111 ST NW</td>\n",
       "      <td>Edmonton</td>\n",
       "      <td>AB</td>\n",
       "      <td>Canada</td>\n",
       "      <td>T6G 2C7</td>\n",
       "    </tr>\n",
       "    <tr>\n",
       "      <th>4</th>\n",
       "      <td>69 Salem Street</td>\n",
       "      <td>Boston</td>\n",
       "      <td>MA</td>\n",
       "      <td>USA</td>\n",
       "      <td>2113</td>\n",
       "    </tr>\n",
       "  </tbody>\n",
       "</table>\n",
       "</div>"
      ],
      "text/plain": [
       "            BillingAddress BillingCity BillingState BillingCountry  \\\n",
       "0  Theodor-Heuss-Straße 34   Stuttgart         None        Germany   \n",
       "1         Ullevålsveien 14        Oslo         None         Norway   \n",
       "2          Grétrystraat 63    Brussels         None        Belgium   \n",
       "3           8210 111 ST NW    Edmonton           AB         Canada   \n",
       "4          69 Salem Street      Boston           MA            USA   \n",
       "\n",
       "  BillingPostalCode  \n",
       "0             70174  \n",
       "1              0171  \n",
       "2              1000  \n",
       "3           T6G 2C7  \n",
       "4              2113  "
      ]
     },
     "execution_count": 8,
     "metadata": {},
     "output_type": "execute_result"
    }
   ],
   "source": [
    "import pandas as pd\n",
    "# dim_employees\n",
    "df_employees=pd.read_sql_query(\"\"\"SELECT LastName, FirstName, Title, ReportsTo, BirthDate, HireDate, Address, \n",
    "City, State, Country, PostalCode, Phone, Fax, Email\n",
    "FROM employees;\n",
    " \"\"\", con=engine.connect())\n",
    "df_employees.head()\n",
    "#dim_albums\n",
    "df_albums=pd.read_sql_query(\"\"\"SELECT AlbumId, Title\n",
    "FROM albums;\n",
    " \"\"\", con=engine.connect())\n",
    "df_albums.head()\n",
    "#dim_media_types\n",
    "df_mediatypes=pd.read_sql_query(\"\"\"SELECT MediaTypeID, Name\n",
    "FROM media_types;\n",
    " \"\"\", con=engine.connect())\n",
    "df_mediatypes.head()\n",
    "#dim_genre\n",
    "df_genres=pd.read_sql_query(\"\"\"SELECT GenreID, Name\n",
    "FROM genres;\n",
    " \"\"\", con=engine.connect())\n",
    "df_genres.head()\n",
    "#dim_playlists\n",
    "df_playlists=pd.read_sql_query(\"\"\"SELECT PlaylistID, Name\n",
    "FROM playlists;\n",
    " \"\"\", con=engine.connect())\n",
    "df_playlists.head()\n",
    "#dim_artists\n",
    "df_artists=pd.read_sql_query(\"\"\"SELECT ArtistID, Name\n",
    "FROM artists;\n",
    " \"\"\", con=engine.connect())\n",
    "df_artists.head()\n",
    "#dim_invoice\n",
    "df_invoices=pd.read_sql_query(\"\"\"SELECT InvoiceID, Total\n",
    "FROM invoices;\n",
    " \"\"\", con=engine.connect())\n",
    "df_invoices.head()\n",
    "#dim_customers\n",
    "df_customers=pd.read_sql_query(\"\"\"SELECT CustomerId,Firstname,LastName,Company,Address,City,State,Country,PostalCode,\n",
    "Phone,Fax,Email,SupportRepId\n",
    "FROM customers;\n",
    " \"\"\", con=engine.connect())\n",
    "df_customers.head()\n",
    "#dim_tracks\n",
    "df_tracks=pd.read_sql_query(\"\"\"SELECT TrackId,Name,MediaTypeID,GenreId,Composer,Milliseconds,Bytes,UnitPrice\n",
    "FROM tracks;\n",
    " \"\"\", con=engine.connect())\n",
    "df_tracks.head()\n",
    "#dim_time\n",
    "df_time=pd.read_sql_query(\"\"\"SELECT InvoiceDate\n",
    "FROM invoices;\n",
    " \"\"\", con=engine.connect())\n",
    "df_time=df_time.drop_duplicates(['InvoiceDate'], keep='first')\n",
    "df_time.head()\n",
    "#dim_location\n",
    "df_location=pd.read_sql_query(\"\"\"SELECT BillingAddress, BillingCity, BillingState, BillingCountry, BillingPostalCode\n",
    "FROM invoices;\n",
    " \"\"\", con=engine.connect())\n",
    "df_location=df_location.drop_duplicates(['BillingAddress'], keep='first')\n",
    "df_location.head()\n"
   ]
  },
  {
   "cell_type": "markdown",
   "id": "2ecbf5c8",
   "metadata": {
    "id": "2ecbf5c8"
   },
   "source": [
    "# Load"
   ]
  },
  {
   "cell_type": "markdown",
   "id": "45a0474b",
   "metadata": {},
   "source": [
    "## Funciones de carga "
   ]
  },
  {
   "cell_type": "code",
   "execution_count": 9,
   "id": "3aad6d31",
   "metadata": {},
   "outputs": [],
   "source": [
    "def updateData(name_table,data_db,name_columns):\n",
    "\tprint(name_columns)\n",
    "\taux_values='?'\n",
    "\taux_data=[]\n",
    "\taux_columns=name_columns[0]\n",
    "\taux_data.append(list(data_db[name_columns[0]]))\n",
    "\tentities=[]\n",
    "\taux_entities=[]\n",
    "\tfor i in range(len(name_columns)-1):\n",
    "\t\taux_values+=',?'\n",
    "\t\taux_columns+=','+name_columns[i+1]\n",
    "\t\taux_data.append(list(data_db[name_columns[i+1]]))\n",
    "\tfor i in range(len(aux_data[0])):\n",
    "\t\t#aux_entities.append(i)\n",
    "\t\tfor j in range(len(aux_data)):\n",
    "\t\t\taux_entities.append(aux_data[j][i])\n",
    "\t\tentities.append(aux_entities)\n",
    "\t\taux_entities=[]\n",
    "\twith engineWH.connect() as con:\n",
    "\t\tfor i in entities:\n",
    "\t\t\t#print('INSERT INTO '+name_table+'('+aux_columns+') VALUES('+aux_values+')')\n",
    "\t\t\t#print(i)\n",
    "\t\t\tcon.execute('INSERT INTO '+name_table+'('+aux_columns+') VALUES('+aux_values+')', i)\n",
    "\tcon.close()\n"
   ]
  },
  {
   "cell_type": "markdown",
   "id": "053e8404",
   "metadata": {
    "id": "8e1eb443"
   },
   "source": [
    "## dim_employees "
   ]
  },
  {
   "cell_type": "code",
   "execution_count": 33,
   "id": "35ed1a3e",
   "metadata": {},
   "outputs": [
    {
     "name": "stdout",
     "output_type": "stream",
     "text": [
      "['LastName', 'FirstName', 'Title', 'ReportsTo', 'BirthDate', 'HireDate', 'Address', 'City', 'State', 'Country', 'PostalCode', 'Phone', 'Fax', 'Email']\n"
     ]
    }
   ],
   "source": [
    "updateData('dim_employees',df_employees,list(df_employees.columns.values))"
   ]
  },
  {
   "cell_type": "markdown",
   "id": "91a97cfa",
   "metadata": {},
   "source": [
    "## dim_albums"
   ]
  },
  {
   "cell_type": "code",
   "execution_count": 68,
   "id": "fa08175d",
   "metadata": {},
   "outputs": [
    {
     "name": "stdout",
     "output_type": "stream",
     "text": [
      "['AlbumId', 'Title']\n"
     ]
    }
   ],
   "source": [
    "updateData('dim_albums',df_albums,list(df_albums.columns.values))"
   ]
  },
  {
   "cell_type": "markdown",
   "id": "18587213",
   "metadata": {},
   "source": [
    "## dim_media_types"
   ]
  },
  {
   "cell_type": "code",
   "execution_count": 70,
   "id": "e082426a",
   "metadata": {},
   "outputs": [
    {
     "name": "stdout",
     "output_type": "stream",
     "text": [
      "['MediaTypeId', 'Name']\n"
     ]
    }
   ],
   "source": [
    "updateData('dim_media_types',df_mediatypes,list(df_mediatypes.columns.values))"
   ]
  },
  {
   "cell_type": "markdown",
   "id": "1dc99588",
   "metadata": {},
   "source": [
    "## dim_genres"
   ]
  },
  {
   "cell_type": "code",
   "execution_count": 71,
   "id": "6dd428a0",
   "metadata": {},
   "outputs": [
    {
     "name": "stdout",
     "output_type": "stream",
     "text": [
      "['GenreId', 'Name']\n"
     ]
    }
   ],
   "source": [
    "updateData('dim_genres',df_genres,list(df_genres.columns.values))"
   ]
  },
  {
   "cell_type": "markdown",
   "id": "14e9f5dd",
   "metadata": {},
   "source": [
    "## dim_playlists"
   ]
  },
  {
   "cell_type": "code",
   "execution_count": 72,
   "id": "a2e61e14",
   "metadata": {},
   "outputs": [
    {
     "name": "stdout",
     "output_type": "stream",
     "text": [
      "['PlaylistId', 'Name']\n"
     ]
    }
   ],
   "source": [
    "updateData('dim_playlists',df_playlists,list(df_playlists.columns.values))"
   ]
  },
  {
   "cell_type": "markdown",
   "id": "95d36f7f",
   "metadata": {},
   "source": [
    "## dim_artists"
   ]
  },
  {
   "cell_type": "code",
   "execution_count": 73,
   "id": "ae9cbd67",
   "metadata": {},
   "outputs": [
    {
     "name": "stdout",
     "output_type": "stream",
     "text": [
      "['ArtistId', 'Name']\n"
     ]
    }
   ],
   "source": [
    "updateData('dim_artists',df_artists,list(df_artists.columns.values))"
   ]
  },
  {
   "cell_type": "markdown",
   "id": "3da510b2",
   "metadata": {},
   "source": [
    "## dim_invoice"
   ]
  },
  {
   "cell_type": "code",
   "execution_count": 74,
   "id": "6f59edf1",
   "metadata": {},
   "outputs": [
    {
     "name": "stdout",
     "output_type": "stream",
     "text": [
      "['InvoiceId', 'Total']\n"
     ]
    }
   ],
   "source": [
    "updateData('dim_invoice',df_invoices,list(df_invoices.columns.values))"
   ]
  },
  {
   "cell_type": "markdown",
   "id": "770ae4c6",
   "metadata": {},
   "source": [
    "## dim_customers"
   ]
  },
  {
   "cell_type": "code",
   "execution_count": 76,
   "id": "f81bcb7e",
   "metadata": {},
   "outputs": [
    {
     "name": "stdout",
     "output_type": "stream",
     "text": [
      "['CustomerId', 'FirstName', 'LastName', 'Company', 'Address', 'City', 'State', 'Country', 'PostalCode', 'Phone', 'Fax', 'Email', 'SupportRepId']\n"
     ]
    }
   ],
   "source": [
    "updateData('dim_customers',df_customers,list(df_customers.columns.values))"
   ]
  },
  {
   "cell_type": "markdown",
   "id": "93d1d5c2",
   "metadata": {},
   "source": [
    "## dim_tracks"
   ]
  },
  {
   "cell_type": "code",
   "execution_count": null,
   "id": "b84178e7",
   "metadata": {
    "scrolled": false
   },
   "outputs": [
    {
     "name": "stdout",
     "output_type": "stream",
     "text": [
      "['TrackId', 'Name', 'MediaTypeId', 'GenreId', 'Composer', 'Milliseconds', 'Bytes', 'UnitPrice']\n"
     ]
    }
   ],
   "source": [
    "updateData('dim_tracks',df_tracks,list(df_tracks.columns.values))"
   ]
  },
  {
   "cell_type": "markdown",
   "id": "bcec6da7",
   "metadata": {},
   "source": [
    "## dim_time"
   ]
  },
  {
   "cell_type": "code",
   "execution_count": 8,
   "id": "79d9a66d",
   "metadata": {},
   "outputs": [
    {
     "name": "stdout",
     "output_type": "stream",
     "text": [
      "['InvoiceDate']\n"
     ]
    }
   ],
   "source": [
    "updateData('dim_time',df_time,list(df_time.columns.values))"
   ]
  },
  {
   "cell_type": "markdown",
   "id": "24786aae",
   "metadata": {},
   "source": [
    "## dim_location"
   ]
  },
  {
   "cell_type": "code",
   "execution_count": 12,
   "id": "990250e0",
   "metadata": {},
   "outputs": [
    {
     "name": "stdout",
     "output_type": "stream",
     "text": [
      "['BillingAddress', 'BillingCity', 'BillingState', 'BillingCountry', 'BillingPostalCode']\n"
     ]
    }
   ],
   "source": [
    "updateData('dim_location',df_location,list(df_location.columns.values))"
   ]
  },
  {
   "cell_type": "markdown",
   "id": "c27b25b3",
   "metadata": {},
   "source": [
    "# Fact_invoice_item"
   ]
  },
  {
   "cell_type": "code",
   "execution_count": 69,
   "id": "1c888d84",
   "metadata": {},
   "outputs": [
    {
     "data": {
      "text/html": [
       "<div>\n",
       "<style scoped>\n",
       "    .dataframe tbody tr th:only-of-type {\n",
       "        vertical-align: middle;\n",
       "    }\n",
       "\n",
       "    .dataframe tbody tr th {\n",
       "        vertical-align: top;\n",
       "    }\n",
       "\n",
       "    .dataframe thead th {\n",
       "        text-align: right;\n",
       "    }\n",
       "</style>\n",
       "<table border=\"1\" class=\"dataframe\">\n",
       "  <thead>\n",
       "    <tr style=\"text-align: right;\">\n",
       "      <th></th>\n",
       "      <th>Quantity</th>\n",
       "    </tr>\n",
       "  </thead>\n",
       "  <tbody>\n",
       "    <tr>\n",
       "      <th>0</th>\n",
       "      <td>1</td>\n",
       "    </tr>\n",
       "    <tr>\n",
       "      <th>1</th>\n",
       "      <td>1</td>\n",
       "    </tr>\n",
       "    <tr>\n",
       "      <th>2</th>\n",
       "      <td>1</td>\n",
       "    </tr>\n",
       "    <tr>\n",
       "      <th>3</th>\n",
       "      <td>1</td>\n",
       "    </tr>\n",
       "    <tr>\n",
       "      <th>4</th>\n",
       "      <td>1</td>\n",
       "    </tr>\n",
       "  </tbody>\n",
       "</table>\n",
       "</div>"
      ],
      "text/plain": [
       "   Quantity\n",
       "0         1\n",
       "1         1\n",
       "2         1\n",
       "3         1\n",
       "4         1"
      ]
     },
     "execution_count": 69,
     "metadata": {},
     "output_type": "execute_result"
    }
   ],
   "source": [
    "\n",
    "#fac_invoce_items\n",
    "#ColumsAux\n",
    "df_AuxInvoiceId=pd.read_sql_query(\"\"\"SELECT InvoiceId\n",
    "FROM invoice_items;\n",
    " \"\"\", con=engine.connect())\n",
    "df_AuxInvoiceId.head()\n",
    "\n",
    "df_CustInv=pd.read_sql_query(\"\"\"SELECT InvoiceId, CustomerId\n",
    "FROM invoices;\n",
    " \"\"\", con=engine.connect())\n",
    "\n",
    "aux=list(df_AuxInvoiceId['InvoiceId'])\n",
    "auxCustomer=[]\n",
    "for i in aux:\n",
    "    aux2=df_CustInv.index[df_CustInv['InvoiceId'] == i].tolist()\n",
    "    auxCustomer.append(df_CustInv['CustomerId'][aux2[0]])\n",
    "\n",
    "df_timeInv=pd.read_sql_query(\"\"\"SELECT InvoiceId, InvoiceDate\n",
    "FROM invoices;\n",
    " \"\"\", con=engine.connect())\n",
    "aux=list(df_AuxInvoiceId['InvoiceId'])\n",
    "auxTime1=[]\n",
    "for i in aux:\n",
    "    aux22=df_CustInv.index[df_CustInv['InvoiceId'] == i].tolist()\n",
    "    auxTime1.append(df_timeInv['InvoiceDate'][aux22[0]])\n",
    "df_dim_time=pd.read_sql_query(\"\"\"SELECT TimeID, InvoiceDate\n",
    "FROM dim_time;\n",
    " \"\"\", con=engineWH.connect())\n",
    "auxTime=[]\n",
    "for i in auxTime1:\n",
    "    aux22=df_dim_time.index[df_dim_time['InvoiceDate'] == i].tolist()\n",
    "    auxTime.append(df_dim_time['TimeID'][aux22[0]])\n",
    "\n",
    "df_locationInv=pd.read_sql_query(\"\"\"SELECT InvoiceId, BillingAddress\n",
    "FROM invoices;\n",
    " \"\"\", con=engine.connect())\n",
    "aux=list(df_AuxInvoiceId['InvoiceId'])\n",
    "auxTime1=[]\n",
    "for i in aux:\n",
    "    aux22=df_locationInv.index[df_locationInv['InvoiceId'] == i].tolist()\n",
    "    auxTime1.append(df_locationInv['BillingAddress'][aux22[0]])\n",
    "df_dim_location=pd.read_sql_query(\"\"\"SELECT LocationID, BillingAddress\n",
    "FROM dim_location;\n",
    " \"\"\", con=engineWH.connect())\n",
    "auxLocation=[]\n",
    "for i in auxTime1:\n",
    "    aux22=df_dim_location.index[df_dim_location['BillingAddress'] == i].tolist()\n",
    "    auxLocation.append(df_dim_location['LocationID'][aux22[0]])\n",
    "    \n",
    "\n",
    "df_AuxTrackId=pd.read_sql_query(\"\"\"SELECT TrackId\n",
    "FROM invoice_items;\n",
    " \"\"\", con=engine.connect())\n",
    "df_AuxTrackId.head()\n",
    "\n",
    "\n",
    "df_tracksP=pd.read_sql_query(\"\"\"SELECT TrackId, AlbumId\n",
    "FROM tracks;\n",
    " \"\"\", con=engine.connect())\n",
    "df_album=pd.read_sql_query(\"\"\"SELECT AlbumId, Title, ArtistId\n",
    "FROM albums;\n",
    " \"\"\", con=engine.connect())\n",
    "aux=list(df_AuxTrackId['TrackId'])\n",
    "auxAlbum=[]\n",
    "for i in aux:\n",
    "    aux22=df_tracksP.index[df_tracksP['TrackId'] == i].tolist()\n",
    "    auxAlbum.append(df_tracksP['AlbumId'][aux22[0]])\n",
    "\n",
    "\n",
    "df_tracksPlay=pd.read_sql_query(\"\"\"SELECT PlaylistId, TrackId\n",
    "FROM playlist_track;\n",
    " \"\"\", con=engine.connect())\n",
    "aux=list(df_AuxTrackId['TrackId'])\n",
    "auxPlaylist=[]\n",
    "for i in aux:\n",
    "    aux22=df_tracksPlay.index[df_tracksPlay['TrackId'] == i].tolist()\n",
    "    auxPlaylist.append(df_tracksPlay['PlaylistId'][aux22[0]])    \n",
    "\n",
    "    \n",
    "    df_tracksPlay=pd.read_sql_query(\"\"\"SELECT PlaylistId, TrackId\n",
    "FROM playlist_track;\n",
    " \"\"\", con=engine.connect())\n",
    "aux=list(df_AuxTrackId['TrackId'])\n",
    "auxArtist=[]\n",
    "for i in auxAlbum:\n",
    "    aux22=df_album.index[df_album['AlbumId'] == i].tolist()\n",
    "    auxArtist.append(df_album['ArtistId'][aux22[0]])\n",
    "\n",
    "df_Quantity=pd.read_sql_query(\"\"\"SELECT Quantity\n",
    "FROM invoice_items;\n",
    " \"\"\", con=engine.connect())\n",
    "df_Quantity.head()"
   ]
  },
  {
   "cell_type": "markdown",
   "id": "85e0efe4",
   "metadata": {},
   "source": [
    "# Fact_invoice_items"
   ]
  },
  {
   "cell_type": "code",
   "execution_count": null,
   "id": "0028ce51",
   "metadata": {},
   "outputs": [
    {
     "name": "stdout",
     "output_type": "stream",
     "text": [
      "['InvoiceID', 'CustomerID', 'TimeID', 'LocationID', 'TrackID', 'PlaylistID', 'ArtistID', 'AlbumID', 'Quantity']\n"
     ]
    }
   ],
   "source": [
    "columnas=['InvoiceID','CustomerID','TimeID','LocationID','TrackID','PlaylistID','ArtistID','AlbumID','Quantity']\n",
    "df = pd.DataFrame(list(zip(list(df_AuxInvoiceId['InvoiceId']),auxCustomer,auxTime,auxLocation,\n",
    "                          list(df_AuxTrackId['TrackId']),auxPlaylist,auxArtist,auxAlbum,\n",
    "                           list(df_Quantity['Quantity']))), columns = columnas)\n",
    "updateData('Fact_invoice_item',df,list(df.columns.values))"
   ]
  }
 ],
 "metadata": {
  "colab": {
   "collapsed_sections": [],
   "name": "[NRC_8903]_JeffersonGuamán_ExamenParcialParteII.ipynb",
   "provenance": []
  },
  "kernelspec": {
   "display_name": "Python 3 (ipykernel)",
   "language": "python",
   "name": "python3"
  },
  "language_info": {
   "codemirror_mode": {
    "name": "ipython",
    "version": 3
   },
   "file_extension": ".py",
   "mimetype": "text/x-python",
   "name": "python",
   "nbconvert_exporter": "python",
   "pygments_lexer": "ipython3",
   "version": "3.9.5"
  }
 },
 "nbformat": 4,
 "nbformat_minor": 5
}
