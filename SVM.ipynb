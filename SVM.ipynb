{
  "nbformat": 4,
  "nbformat_minor": 0,
  "metadata": {
    "colab": {
      "name": "SVM.ipynb",
      "provenance": [],
      "toc_visible": true,
      "authorship_tag": "ABX9TyPqR7G5lt7+U0KA2tDyaA2R",
      "include_colab_link": true
    },
    "kernelspec": {
      "name": "python3",
      "display_name": "Python 3"
    },
    "language_info": {
      "name": "python"
    }
  },
  "cells": [
    {
      "cell_type": "markdown",
      "metadata": {
        "id": "view-in-github",
        "colab_type": "text"
      },
      "source": [
        "<a href=\"https://colab.research.google.com/github/JhandryZambrano13/LAB2/blob/main/SVM.ipynb\" target=\"_parent\"><img src=\"https://colab.research.google.com/assets/colab-badge.svg\" alt=\"Open In Colab\"/></a>"
      ]
    },
    {
      "cell_type": "code",
      "source": [
        "def basededatos():\n",
        "  '''Base de datos '''\n",
        "#https://archive.ics.uci.edu/ml/datasets/wine\n",
        "print(basededatos.__doc__)\n",
        "\n"
      ],
      "metadata": {
        "colab": {
          "base_uri": "https://localhost:8080/"
        },
        "id": "TbwU6ByZwtBK",
        "outputId": "e8b6138e-0553-4d8c-f3ad-d6aa9ae3e818"
      },
      "execution_count": 12,
      "outputs": [
        {
          "output_type": "stream",
          "name": "stdout",
          "text": [
            "Base de datos \n"
          ]
        }
      ]
    },
    {
      "cell_type": "code",
      "execution_count": 13,
      "metadata": {
        "id": "50FXbJ7Qu-_W",
        "colab": {
          "base_uri": "https://localhost:8080/"
        },
        "outputId": "06e6b186-ed3b-43c3-ad92-c338024441ec"
      },
      "outputs": [
        {
          "output_type": "stream",
          "name": "stdout",
          "text": [
            "Uso de librerias \n"
          ]
        }
      ],
      "source": [
        "def librerias1():\n",
        "  '''Uso de librerias '''\n",
        "from sklearn import datasets\n",
        "from sklearn.model_selection import train_test_split\n",
        "from sklearn import svm\n",
        "from sklearn import metrics\n",
        "import pandas as pd\n",
        "print(librerias1.__doc__)\n"
      ]
    },
    {
      "cell_type": "code",
      "source": [
        "def cargardataset():\n",
        "  ''''''\n",
        "dicc = datasets.load_wine()\n",
        "print(cargardataset.__doc__)\n"
      ],
      "metadata": {
        "colab": {
          "base_uri": "https://localhost:8080/"
        },
        "id": "GG8NZtye7ODe",
        "outputId": "33805bb9-272e-4c3b-96f3-7bc7d3d0b4fd"
      },
      "execution_count": 29,
      "outputs": [
        {
          "output_type": "stream",
          "name": "stdout",
          "text": [
            "\n"
          ]
        }
      ]
    }
  ]
}